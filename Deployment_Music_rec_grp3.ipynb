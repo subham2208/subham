{
  "nbformat": 4,
  "nbformat_minor": 0,
  "metadata": {
    "colab": {
      "provenance": []
    },
    "kernelspec": {
      "name": "python3",
      "display_name": "Python 3"
    },
    "language_info": {
      "name": "python"
    }
  },
  "cells": [
    {
      "cell_type": "code",
      "source": [
        "!pip install streamlit\n",
        "!pip install joblib  # For Pickle\n",
        "import streamlit as st\n",
        "import joblib"
      ],
      "metadata": {
        "id": "AB_XTNFGXe1J"
      },
      "execution_count": null,
      "outputs": []
    },
    {
      "cell_type": "code",
      "source": [
        "joblib.dump(kmeans, 'kmeans_model.pkl')\n",
        "kmeans = joblib.load('kmeans_model.pkl')"
      ],
      "metadata": {
        "id": "ToXjISWLXm82"
      },
      "execution_count": null,
      "outputs": []
    },
    {
      "cell_type": "code",
      "execution_count": null,
      "metadata": {
        "id": "bu7eulU_XLzT"
      },
      "outputs": [],
      "source": [
        "%%writefile music_app.py\n",
        "import streamlit as st\n",
        "from sklearn.cluster import KMeans\n",
        "import pandas as pd\n",
        "import numpy as np\n",
        "df=pd.read_csv(\"data.csv\")\n",
        "df[\"duration\"]=df[\"duration_ms\"].apply(lambda x: round(x/1000))\n",
        "df.drop(\"duration_ms\", inplace=True, axis=1)\n",
        "# Feature selection\n",
        "features = ['acousticness', 'danceability', 'energy', 'instrumentalness', 'loudness', 'speechiness', 'tempo', 'duration']\n",
        "\n",
        "# Create a new DataFrame with only the selected features\n",
        "song_features = df[features]\n",
        "\n",
        "# Normalize the features (optional, but recommended)\n",
        "song_features_normalized = (song_features - song_features.mean()) / (song_features.max() - song_features.min())\n",
        "total_dr = df['duration']  # Assuming 'duration' is a column in your DataFrame\n",
        "years = df['year']\n",
        "kmeans = KMeans(n_clusters=10, random_state=42)\n",
        "\n",
        "kmeans.fit(song_features_normalized)\n",
        "\n",
        "# Streamlit app\n",
        "st.title(\"Song Recommendation System\")\n",
        "\n",
        "# Input for song name\n",
        "song_name = st.text_input(\"Enter a song name:\")\n",
        "\n",
        "# Button to trigger recommendations\n",
        "if st.button(\"Get Recommendations\"):\n",
        "    # Function to get recommendations\n",
        "    def get_recommendations(song_name, kmeans_model=kmeans, data=df):\n",
        "        song_index = df[df['name'] == song_name].index[0]\n",
        "        cluster_label = kmeans_model.labels_[song_index]\n",
        "        cluster_songs = df[kmeans_model.labels_ == cluster_label]['name']\n",
        "        return cluster_songs\n",
        "\n",
        "    # Get recommendations for the input song\n",
        "    recommended_songs = get_recommendations(song_name)\n",
        "\n",
        "    # Display recommendations\n",
        "    if len(recommended_songs) > 0:\n",
        "        st.subheader(\"Recommended Songs:\")\n",
        "        st.write(recommended_songs)\n",
        "    else:\n",
        "        st.write(\"No recommendations found for this song.\")"
      ]
    },
    {
      "cell_type": "code",
      "source": [
        "!pip install pyngrok\n",
        "from pyngrok import ngrok\n",
        "!streamlit run music_app.py & npx localtunnel --port 8501"
      ],
      "metadata": {
        "id": "uUGOTgJIXbTM"
      },
      "execution_count": null,
      "outputs": []
    }
  ]
}